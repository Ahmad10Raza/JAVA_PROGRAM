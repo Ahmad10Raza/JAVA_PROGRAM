{
 "cells": [
  {
   "cell_type": "markdown",
   "metadata": {},
   "source": [
    "# Explain handling in HTTP get and post request in servlet with example."
   ]
  },
  {
   "cell_type": "markdown",
   "metadata": {},
   "source": [
    "In a Servlet, HTTP GET and POST requests are handled by the `doGet()` and `doPost()` methods respectively. These methods are called by the `service()` method of the `HttpServlet` class.\n",
    "\n",
    "Here's a simple example of a Servlet that handles both GET and POST requests:\n",
    "\n"
   ]
  },
  {
   "cell_type": "code",
   "execution_count": null,
   "metadata": {
    "vscode": {
     "languageId": "java"
    }
   },
   "outputs": [],
   "source": [
    "import java.io.*;\n",
    "import javax.servlet.*;\n",
    "import javax.servlet.http.*;\n",
    "\n",
    "public class MyServlet extends HttpServlet {\n",
    "\n",
    "    // Method to handle GET method request.\n",
    "    public void doGet(HttpServletRequest request, HttpServletResponse response)\n",
    "      throws ServletException, IOException {\n",
    "      \n",
    "      PrintWriter out = response.getWriter();\n",
    "      String title = \"Using GET Method to Read Form Data\";\n",
    "      String name = request.getParameter(\"name\");\n",
    "\n",
    "      out.println(\"<html>\\n\" +\n",
    "                \"<head><title>\" + title + \"</title></head>\\n\" +\n",
    "                \"<body>\\n\" +\n",
    "                \"<h1 align=\\\"center\\\">\" + title + \"</h1>\\n\" +\n",
    "                \"<ul>\\n\" +\n",
    "                \"  <li><b>Name</b>: \" + name + \"\\n\" +\n",
    "                \"</ul>\\n\" +\n",
    "                \"</body></html>\");\n",
    "    }\n",
    "\n",
    "    // Method to handle POST method request.\n",
    "    public void doPost(HttpServletRequest request, HttpServletResponse response)\n",
    "      throws ServletException, IOException {\n",
    "      \n",
    "      doGet(request, response);\n",
    "    }\n",
    "}"
   ]
  },
  {
   "cell_type": "markdown",
   "metadata": {},
   "source": [
    "\n",
    "\n",
    "In this example, the `doGet()` method is used to read form data and produce an HTML page that displays the submitted data. The `doPost()` method simply calls `doGet()`, so this servlet will handle POST requests in the same way as GET requests.\n",
    "\n",
    "The `HttpServletRequest` object `request` is used to get the data from the user, and the `HttpServletResponse` object `response` is used to create the response.\n",
    "\n",
    "The `getParameter()` method of `HttpServletRequest` is used to read the form data. In this case, it's reading a form field named \"name\".\n",
    "\n",
    "The `PrintWriter` object `out` is used to send the output back to the client. It's creating an HTML page that displays the submitted name.\n",
    "\n",
    "To use this servlet, you would need to configure it in your `web.xml` file and create an HTML form that submits data to the URL mapped to this servlet. The form could use either the GET or POST method."
   ]
  },
  {
   "cell_type": "markdown",
   "metadata": {},
   "source": [
    "# Explain handling in HTTP get  request in servlet with example."
   ]
  },
  {
   "cell_type": "markdown",
   "metadata": {},
   "source": [
    "In a Servlet, HTTP GET requests are handled by the `doGet()` method. This method is called by the `service()` method of the `HttpServlet` class when a GET request is received.\n",
    "\n",
    "Here's a simple example of a Servlet that handles GET requests:\n",
    "\n"
   ]
  },
  {
   "cell_type": "code",
   "execution_count": null,
   "metadata": {
    "vscode": {
     "languageId": "java"
    }
   },
   "outputs": [],
   "source": [
    "import java.io.*;\n",
    "import javax.servlet.*;\n",
    "import javax.servlet.http.*;\n",
    "\n",
    "public class MyServlet extends HttpServlet {\n",
    "\n",
    "    // Method to handle GET method request.\n",
    "    public void doGet(HttpServletRequest request, HttpServletResponse response)\n",
    "      throws ServletException, IOException {\n",
    "      \n",
    "      // Set response content type and other response header fields first  \n",
    "      PrintWriter out = response.getWriter();\n",
    "      // Then write the data of the response\n",
    "      String title = \"Using GET Method to Read Form Data\";\n",
    "      // Get the name passed in the request\n",
    "      String name = request.getParameter(\"name\");\n",
    "\n",
    "      out.println(\"<html>\\n\" +\n",
    "                \"<head><title>\" + title + \"</title></head>\\n\" +\n",
    "                \"<body>\\n\" +\n",
    "                \"<h1 align=\\\"center\\\">\" + title + \"</h1>\\n\" +\n",
    "                \"<ul>\\n\" +\n",
    "                \"  <li><b>Name</b>: \" + name + \"\\n\" +\n",
    "                \"</ul>\\n\" +\n",
    "                \"</body></html>\");\n",
    "    }\n",
    "}"
   ]
  },
  {
   "cell_type": "markdown",
   "metadata": {},
   "source": [
    "\n",
    "\n",
    "In this example, the `doGet()` method is used to read form data and produce an HTML page that displays the submitted data.\n",
    "\n",
    "The `HttpServletRequest` object `request` is used to get the data from the user, and the `HttpServletResponse` object `response` is used to create the response.\n",
    "\n",
    "The `getParameter()` method of `HttpServletRequest` is used to read the form data. In this case, it's reading a form field named \"name\".\n",
    "\n",
    "The `PrintWriter` object `out` is used to send the output back to the client. It's creating an HTML page that displays the submitted name.\n",
    "\n",
    "To use this servlet, you would need to configure it in your `web.xml` file and create an HTML form that submits data to the URL mapped to this servlet. The form should use the GET method."
   ]
  },
  {
   "cell_type": "markdown",
   "metadata": {},
   "source": [
    "# Explain handling in HTTP  post request in servlet with example."
   ]
  },
  {
   "cell_type": "markdown",
   "metadata": {},
   "source": [
    "HTTP POST requests in a servlet are handled by the `doPost()` method. This method is called by the `service()` method of the `HttpServlet` class when a POST request is received.\n",
    "\n",
    "Here's how you can modify your existing servlet to handle POST requests:\n",
    "\n"
   ]
  },
  {
   "cell_type": "code",
   "execution_count": null,
   "metadata": {
    "vscode": {
     "languageId": "java"
    }
   },
   "outputs": [],
   "source": [
    "import java.io.*;\n",
    "import javax.servlet.*;\n",
    "import javax.servlet.http.*;\n",
    "\n",
    "public class MyServlet extends HttpServlet {\n",
    "\n",
    "    // Method to handle GET method request.\n",
    "    public void doGet(HttpServletRequest request, HttpServletResponse response)\n",
    "      throws ServletException, IOException {\n",
    "      \n",
    "      processRequest(request, response);\n",
    "    }\n",
    "\n",
    "    // Method to handle POST method request.\n",
    "    public void doPost(HttpServletRequest request, HttpServletResponse response)\n",
    "      throws ServletException, IOException {\n",
    "      \n",
    "      processRequest(request, response);\n",
    "    }\n",
    "\n",
    "    private void processRequest(HttpServletRequest request, HttpServletResponse response)\n",
    "      throws ServletException, IOException {\n",
    "      \n",
    "      // Set response content type and other response header fields first  \n",
    "      PrintWriter out = response.getWriter();\n",
    "      // Then write the data of the response\n",
    "      String title = \"Using GET or POST Method to Read Form Data\";\n",
    "      // Get the name passed in the request\n",
    "      String name = request.getParameter(\"name\");\n",
    "\n",
    "      out.println(\"<html>\\n\" +\n",
    "                \"<head><title>\" + title + \"</title></head>\\n\" +\n",
    "                \"<body>\\n\" +\n",
    "                \"<h1 align=\\\"center\\\">\" + title + \"</h1>\\n\" +\n",
    "                \"<ul>\\n\" +\n",
    "                \"  <li><b>Name</b>: \" + name + \"\\n\" +\n",
    "                \"</ul>\\n\" +\n",
    "                \"</body></html>\");\n",
    "    }\n",
    "}"
   ]
  },
  {
   "cell_type": "markdown",
   "metadata": {},
   "source": [
    "\n",
    "\n",
    "In this example, both `doGet()` and `doPost()` methods call a `processRequest()` method, which handles the request and generates the response. This way, the servlet can handle both GET and POST requests in the same way.\n",
    "\n",
    "The `HttpServletRequest` object `request` is used to get the data from the user, and the `HttpServletResponse` object `response` is used to create the response.\n",
    "\n",
    "The `getParameter()` method of `HttpServletRequest` is used to read the form data. In this case, it's reading a form field named \"name\".\n",
    "\n",
    "The `PrintWriter` object `out` is used to send the output back to the client. It's creating an HTML page that displays the submitted name.\n",
    "\n",
    "To use this servlet, you would need to configure it in your `web.xml` file and create an HTML form that submits data to the URL mapped to this servlet. The form could use either the GET or POST method."
   ]
  },
  {
   "cell_type": "markdown",
   "metadata": {},
   "source": [
    "# Explain RequestDispatcher. Also describe different ways to get the object of RequestDispatcher."
   ]
  },
  {
   "cell_type": "markdown",
   "metadata": {},
   "source": [
    "The `RequestDispatcher` interface in Java Servlet provides the facility of dispatching the request to another resource it may be html, servlet or jsp. This interface can also be used to include the content of another resource, which can be useful in servlet collaboration.\n",
    "\n",
    "There are two methods defined in the `RequestDispatcher` interface:\n",
    "\n",
    "1. `void forward(ServletRequest request, ServletResponse response)`: Forwards a request from a servlet to another resource (servlet, JSP file, or HTML file) on the server.\n",
    "\n",
    "2. `void include(ServletRequest request, ServletResponse response)`: Includes the content of a resource (servlet, JSP page, HTML file) in the response.\n",
    "\n",
    "There are two ways to get the object of `RequestDispatcher`:\n",
    "\n",
    "1. **Using `request.getRequestDispatcher(String path)` method:** This method returns the object of `RequestDispatcher`. The `path` specified is relative to the current request, and can be relative to the current context root or to the current servlet.\n",
    "\n"
   ]
  },
  {
   "cell_type": "code",
   "execution_count": null,
   "metadata": {
    "vscode": {
     "languageId": "java"
    }
   },
   "outputs": [],
   "source": [
    "RequestDispatcher rd = request.getRequestDispatcher(\"servlet2\");"
   ]
  },
  {
   "cell_type": "markdown",
   "metadata": {},
   "source": [
    "\n",
    "\n",
    "2. **Using `ServletContext.getRequestDispatcher(String path)` method:** This method returns the object of `RequestDispatcher`. The `path` specified must be relative to the current context root.\n",
    "\n"
   ]
  },
  {
   "cell_type": "code",
   "execution_count": null,
   "metadata": {
    "vscode": {
     "languageId": "java"
    }
   },
   "outputs": [],
   "source": [
    "ServletContext context = getServletContext();\n",
    "RequestDispatcher rd = context.getRequestDispatcher(\"/servlet2\");"
   ]
  },
  {
   "cell_type": "markdown",
   "metadata": {},
   "source": [
    "\n",
    "\n",
    "In both cases, the `RequestDispatcher` object can then be used to forward the request to another resource, like so:\n",
    "\n"
   ]
  },
  {
   "cell_type": "code",
   "execution_count": null,
   "metadata": {
    "vscode": {
     "languageId": "java"
    }
   },
   "outputs": [],
   "source": [
    "rd.forward(request, response);"
   ]
  },
  {
   "cell_type": "markdown",
   "metadata": {},
   "source": [
    "\n",
    "\n",
    "Or to include the content of another resource in the response:\n",
    "\n"
   ]
  },
  {
   "cell_type": "code",
   "execution_count": null,
   "metadata": {
    "vscode": {
     "languageId": "java"
    }
   },
   "outputs": [],
   "source": [
    "rd.include(request, response);"
   ]
  },
  {
   "cell_type": "markdown",
   "metadata": {},
   "source": [
    "# **Thank You!**"
   ]
  }
 ],
 "metadata": {
  "language_info": {
   "name": "python"
  }
 },
 "nbformat": 4,
 "nbformat_minor": 2
}
